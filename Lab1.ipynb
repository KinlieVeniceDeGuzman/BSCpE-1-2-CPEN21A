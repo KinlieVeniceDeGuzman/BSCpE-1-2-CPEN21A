{
  "nbformat": 4,
  "nbformat_minor": 0,
  "metadata": {
    "colab": {
      "name": "Lab1.ipynb",
      "provenance": [],
      "authorship_tag": "ABX9TyNFUYkQfJBWe5krAT2ZFV1f",
      "include_colab_link": true
    },
    "kernelspec": {
      "name": "python3",
      "display_name": "Python 3"
    },
    "language_info": {
      "name": "python"
    }
  },
  "cells": [
    {
      "cell_type": "markdown",
      "metadata": {
        "id": "view-in-github",
        "colab_type": "text"
      },
      "source": [
        "<a href=\"https://colab.research.google.com/github/itz-kin/BSCpE-1-2-CPEN21A/blob/main/Lab1.ipynb\" target=\"_parent\"><img src=\"https://colab.research.google.com/assets/colab-badge.svg\" alt=\"Open In Colab\"/></a>"
      ]
    },
    {
      "cell_type": "markdown",
      "metadata": {
        "id": "F_06gRc1-v5i"
      },
      "source": [
        "# Laboratory 1"
      ]
    },
    {
      "cell_type": "code",
      "metadata": {
        "colab": {
          "base_uri": "https://localhost:8080/"
        },
        "id": "7qSYL-BC_LBU",
        "outputId": "75c6509a-0ccf-42d5-c3ac-3502b0a29e6a"
      },
      "source": [
        "print(\"Welcome to Python Programming\")\n",
        "name = \"Kinlie Venice L. de Guzman\"\n",
        "age = \"18 years old\"\n",
        "address = \"171 Bucana Malaki, Naic, Cavite\"\n",
        "print(\"What's your name?\")\n",
        "print(\"My name is \" +name)\n",
        "print(\"How old are you?\")\n",
        "print(\"I am \" +age)\n",
        "print(\"Where do you live?\")\n",
        "print(\"I live in \"+address)"
      ],
      "execution_count": 15,
      "outputs": [
        {
          "output_type": "stream",
          "name": "stdout",
          "text": [
            "Welcome to Python Programming\n",
            "What's your name?\n",
            "My name is Kinlie Venice L. de Guzman\n",
            "How old are you?\n",
            "I am 18 years old\n",
            "Where do you live?\n",
            "I live in 171 Bucana Malaki, Naic, Cavite\n"
          ]
        }
      ]
    }
  ]
}