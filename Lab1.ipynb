{
  "nbformat": 4,
  "nbformat_minor": 0,
  "metadata": {
    "colab": {
      "name": "Lab1.ipynb",
      "provenance": [],
      "authorship_tag": "ABX9TyPNQg7rItRIOwcM7GhQtSy4",
      "include_colab_link": true
    },
    "kernelspec": {
      "name": "python3",
      "display_name": "Python 3"
    },
    "language_info": {
      "name": "python"
    }
  },
  "cells": [
    {
      "cell_type": "markdown",
      "metadata": {
        "id": "view-in-github",
        "colab_type": "text"
      },
      "source": [
        "<a href=\"https://colab.research.google.com/github/itz-kin/BSCpE-1-2-CPEN21A/blob/main/Lab1.ipynb\" target=\"_parent\"><img src=\"https://colab.research.google.com/assets/colab-badge.svg\" alt=\"Open In Colab\"/></a>"
      ]
    },
    {
      "cell_type": "markdown",
      "metadata": {
        "id": "F_06gRc1-v5i"
      },
      "source": [
        "# Laboratory 1"
      ]
    },
    {
      "cell_type": "code",
      "metadata": {
        "colab": {
          "base_uri": "https://localhost:8080/"
        },
        "id": "YGEQXk67-vN4",
        "outputId": "db0bb2a4-3366-4f98-842c-8d98339f9077"
      },
      "source": [
        "print(\"Welcome to Python Programming\")"
      ],
      "execution_count": 3,
      "outputs": [
        {
          "output_type": "stream",
          "name": "stdout",
          "text": [
            "Welcome to Python Programming\n"
          ]
        }
      ]
    },
    {
      "cell_type": "code",
      "metadata": {
        "colab": {
          "base_uri": "https://localhost:8080/"
        },
        "id": "7qSYL-BC_LBU",
        "outputId": "39272e3a-e9c1-455b-f6b0-22ebb4b7c045"
      },
      "source": [
        "print(\"What's your name?\")\n",
        "name = \"Kinlie Venice L. de Guzman\"\n",
        "print(\"My name is \" +name)"
      ],
      "execution_count": 5,
      "outputs": [
        {
          "output_type": "stream",
          "name": "stdout",
          "text": [
            "What's your name?\n",
            "My name is Kinlie Venice L. de Guzman\n"
          ]
        }
      ]
    },
    {
      "cell_type": "code",
      "metadata": {
        "colab": {
          "base_uri": "https://localhost:8080/"
        },
        "id": "FJ-4A--t_ZmH",
        "outputId": "6a2381b1-1b1d-4b14-ea58-273c40785941"
      },
      "source": [
        "print(\"How old are you?\")\n",
        "age = \"18 years old\"\n",
        "print(\"I am \" +age)"
      ],
      "execution_count": 6,
      "outputs": [
        {
          "output_type": "stream",
          "name": "stdout",
          "text": [
            "How old are you?\n",
            "I am 18 years old\n"
          ]
        }
      ]
    },
    {
      "cell_type": "code",
      "metadata": {
        "colab": {
          "base_uri": "https://localhost:8080/"
        },
        "id": "FEEY8_c2_mjz",
        "outputId": "6803d411-4189-4f07-eab7-aaec26c980bd"
      },
      "source": [
        "print(\"Where do you live currently?\")\n",
        "address = \"171 Bucana Malaki Naic Cavite\"\n",
        "print(\"Currently, I live in \" +address)"
      ],
      "execution_count": 7,
      "outputs": [
        {
          "output_type": "stream",
          "name": "stdout",
          "text": [
            "Where do you live currently?\n",
            "Currently, I live in 171 Bucana Malaki Naic Cavite\n"
          ]
        }
      ]
    }
  ]
}