{
  "nbformat": 4,
  "nbformat_minor": 0,
  "metadata": {
    "colab": {
      "name": "Lab1.ipynb",
      "provenance": [],
      "authorship_tag": "ABX9TyMPJ5iUCAe4tnwIaPNuwTrp",
      "include_colab_link": true
    },
    "kernelspec": {
      "name": "python3",
      "display_name": "Python 3"
    },
    "language_info": {
      "name": "python"
    }
  },
  "cells": [
    {
      "cell_type": "markdown",
      "metadata": {
        "id": "view-in-github",
        "colab_type": "text"
      },
      "source": [
        "<a href=\"https://colab.research.google.com/github/itz-kin/BSCpE-1-2-CPEN21A/blob/main/Lab1.ipynb\" target=\"_parent\"><img src=\"https://colab.research.google.com/assets/colab-badge.svg\" alt=\"Open In Colab\"/></a>"
      ]
    },
    {
      "cell_type": "markdown",
      "metadata": {
        "id": "F_06gRc1-v5i"
      },
      "source": [
        "# Laboratory 1"
      ]
    },
    {
      "cell_type": "code",
      "metadata": {
        "colab": {
          "base_uri": "https://localhost:8080/"
        },
        "id": "YGEQXk67-vN4",
        "outputId": "db0bb2a4-3366-4f98-842c-8d98339f9077"
      },
      "source": [
        "print(\"Welcome to Python Programming\")"
      ],
      "execution_count": 3,
      "outputs": [
        {
          "output_type": "stream",
          "name": "stdout",
          "text": [
            "Welcome to Python Programming\n"
          ]
        }
      ]
    },
    {
      "cell_type": "code",
      "metadata": {
        "colab": {
          "base_uri": "https://localhost:8080/"
        },
        "id": "7qSYL-BC_LBU",
        "outputId": "95430cb2-adf7-4bca-dce5-deb87891747a"
      },
      "source": [
        "name = \"Kinlie Venice L. de Guzman\"\n",
        "age = \"18 years old\"\n",
        "address = \"171 Bucana Malaki, Naic, Cavite\"\n",
        "print(\"What's your name?\")\n",
        "print(\"My name is \" +name)\n",
        "print(\"How old are you?\")\n",
        "print(\"I am \" +age)\n",
        "print(\"Where do you live?\")\n",
        "print(\"I live in \"+address)"
      ],
      "execution_count": 12,
      "outputs": [
        {
          "output_type": "stream",
          "name": "stdout",
          "text": [
            "What's your name?\n",
            "My name is Kinlie Venice L. de Guzman\n",
            "How old are you?\n",
            "I am 18 years old\n",
            "Where do you live?\n",
            "I live in 171 Bucana Malaki, Naic, Cavite\n"
          ]
        }
      ]
    },
    {
      "cell_type": "code",
      "metadata": {
        "id": "ly5GdwDJE7H2"
      },
      "source": [
        ""
      ],
      "execution_count": null,
      "outputs": []
    }
  ]
}