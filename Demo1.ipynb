{
  "nbformat": 4,
  "nbformat_minor": 0,
  "metadata": {
    "colab": {
      "name": "Demo1.ipynb",
      "provenance": [],
      "toc_visible": true,
      "authorship_tag": "ABX9TyO5AHi/kZ4dx0g1qnqyJ3Rw",
      "include_colab_link": true
    },
    "kernelspec": {
      "name": "python3",
      "display_name": "Python 3"
    },
    "language_info": {
      "name": "python"
    }
  },
  "cells": [
    {
      "cell_type": "markdown",
      "metadata": {
        "id": "view-in-github",
        "colab_type": "text"
      },
      "source": [
        "<a href=\"https://colab.research.google.com/github/itz-kin/BSCpE-1-2-CPEN21A/blob/main/Demo1.ipynb\" target=\"_parent\"><img src=\"https://colab.research.google.com/assets/colab-badge.svg\" alt=\"Open In Colab\"/></a>"
      ]
    },
    {
      "cell_type": "markdown",
      "metadata": {
        "id": "XifeU2uRKkUL"
      },
      "source": [
        "# Python Indention"
      ]
    },
    {
      "cell_type": "code",
      "metadata": {
        "colab": {
          "base_uri": "https://localhost:8080/"
        },
        "id": "bjJaGOa0KZcL",
        "outputId": "a8b7ddb2-8505-48c8-b5cc-bc0fe93b94df"
      },
      "source": [
        "if 5>2:\n",
        "  print(\"Five is greater than two\")"
      ],
      "execution_count": 1,
      "outputs": [
        {
          "output_type": "stream",
          "name": "stdout",
          "text": [
            "Five is greater than two\n"
          ]
        }
      ]
    },
    {
      "cell_type": "markdown",
      "metadata": {
        "id": "StLqbpV_L3U5"
      },
      "source": [
        "# Python Comments"
      ]
    },
    {
      "cell_type": "code",
      "metadata": {
        "colab": {
          "base_uri": "https://localhost:8080/"
        },
        "id": "W-qnjCT2K0xs",
        "outputId": "b5e412b3-8f7a-48ff-99e3-d2515425e802"
      },
      "source": [
        "print(\"Hello, World!\") #This is a comment"
      ],
      "execution_count": 2,
      "outputs": [
        {
          "output_type": "stream",
          "name": "stdout",
          "text": [
            "Hello, World!\n"
          ]
        }
      ]
    },
    {
      "cell_type": "markdown",
      "metadata": {
        "id": "DubbnpfAL3V_"
      },
      "source": [
        "# Python Variable"
      ]
    },
    {
      "cell_type": "code",
      "metadata": {
        "colab": {
          "base_uri": "https://localhost:8080/"
        },
        "id": "-wPMwMi8LDmV",
        "outputId": "8444b238-f1d8-4144-e8d4-80ea49652dcf"
      },
      "source": [
        "x=1\n",
        "x,y=1,2\n",
        "x,y,z=1,2,3\n",
        "print(x)\n",
        "print(y)\n",
        "print(z)"
      ],
      "execution_count": 4,
      "outputs": [
        {
          "output_type": "stream",
          "name": "stdout",
          "text": [
            "1\n",
            "2\n",
            "3\n"
          ]
        }
      ]
    },
    {
      "cell_type": "markdown",
      "metadata": {
        "id": "71m3YQBNMcuH"
      },
      "source": [
        "# Casting"
      ]
    },
    {
      "cell_type": "code",
      "metadata": {
        "colab": {
          "base_uri": "https://localhost:8080/"
        },
        "id": "o4oYOTpWLsbv",
        "outputId": "00c262b3-21db-43b8-f99d-c057f19604bd"
      },
      "source": [
        "b=int(4)\n",
        "print(b)"
      ],
      "execution_count": 6,
      "outputs": [
        {
          "output_type": "stream",
          "name": "stdout",
          "text": [
            "4\n"
          ]
        }
      ]
    },
    {
      "cell_type": "markdown",
      "metadata": {
        "id": "oafHRRqbOoYr"
      },
      "source": [
        "# Type Function"
      ]
    },
    {
      "cell_type": "code",
      "metadata": {
        "colab": {
          "base_uri": "https://localhost:8080/"
        },
        "id": "dFCcuQ3hMf5e",
        "outputId": "41699b29-339a-4c73-ef1b-c9d9b52b76d0"
      },
      "source": [
        "x=5\n",
        "y=\"John\"\n",
        "print(type(x))\n",
        "print(type(y))"
      ],
      "execution_count": 10,
      "outputs": [
        {
          "output_type": "stream",
          "name": "stdout",
          "text": [
            "<class 'int'>\n",
            "<class 'str'>\n"
          ]
        }
      ]
    },
    {
      "cell_type": "markdown",
      "metadata": {
        "id": "Ar1zDijmOoaQ"
      },
      "source": [
        "# Quotes"
      ]
    },
    {
      "cell_type": "code",
      "metadata": {
        "colab": {
          "base_uri": "https://localhost:8080/"
        },
        "id": "j_OOxPYSOz5g",
        "outputId": "12b7a353-e466-40fe-8f21-1d92bc577dcc"
      },
      "source": [
        "y=\"John\"\n",
        "y='John'\n",
        "print(y)"
      ],
      "execution_count": 11,
      "outputs": [
        {
          "output_type": "stream",
          "name": "stdout",
          "text": [
            "John\n"
          ]
        }
      ]
    },
    {
      "cell_type": "markdown",
      "metadata": {
        "id": "-Cnmhs_FO-Xb"
      },
      "source": [
        "# Case Sensitive"
      ]
    },
    {
      "cell_type": "code",
      "metadata": {
        "colab": {
          "base_uri": "https://localhost:8080/"
        },
        "id": "byyEy-inPCxs",
        "outputId": "fbe9b7d2-c39d-44b3-eaf9-49335848e5b4"
      },
      "source": [
        "a=4\n",
        "A=\"Sally\" #A will not overwite a\n",
        "print(a)\n",
        "print(A)"
      ],
      "execution_count": 13,
      "outputs": [
        {
          "output_type": "stream",
          "name": "stdout",
          "text": [
            "4\n",
            "Sally\n"
          ]
        }
      ]
    },
    {
      "cell_type": "markdown",
      "metadata": {
        "id": "Zuk7WdmQPqiu"
      },
      "source": [
        "# Multiple Variables"
      ]
    },
    {
      "cell_type": "code",
      "metadata": {
        "colab": {
          "base_uri": "https://localhost:8080/"
        },
        "id": "eQHULjt4Pg6f",
        "outputId": "690a4089-d3af-4203-f781-c59b90664620"
      },
      "source": [
        "x,y,z=\"one\",\"two\",\"three\"\n",
        "print(x)\n",
        "print(y)\n",
        "print(z)\n"
      ],
      "execution_count": 14,
      "outputs": [
        {
          "output_type": "stream",
          "name": "stdout",
          "text": [
            "one\n",
            "two\n",
            "three\n"
          ]
        }
      ]
    },
    {
      "cell_type": "markdown",
      "metadata": {
        "id": "YIHge5TlQOEd"
      },
      "source": [
        "# One Value to Multiple Variables"
      ]
    },
    {
      "cell_type": "code",
      "metadata": {
        "colab": {
          "base_uri": "https://localhost:8080/"
        },
        "id": "PxklTLETQSXP",
        "outputId": "a8974957-61ea-433e-f392-041270b87233"
      },
      "source": [
        "x=y=z=\"four\"\n",
        "print(x)\n",
        "print(y)\n",
        "print(z)"
      ],
      "execution_count": 15,
      "outputs": [
        {
          "output_type": "stream",
          "name": "stdout",
          "text": [
            "four\n",
            "four\n",
            "four\n"
          ]
        }
      ]
    },
    {
      "cell_type": "markdown",
      "metadata": {
        "id": "x2OhE8VJQdya"
      },
      "source": [
        "# Output Variables"
      ]
    },
    {
      "cell_type": "code",
      "metadata": {
        "colab": {
          "base_uri": "https://localhost:8080/"
        },
        "id": "h_HOHB7oQSZv",
        "outputId": "eede8480-7e0a-40fb-8b40-b0531b9d1fb2"
      },
      "source": [
        "x=\"Wonyoung\"\n",
        "print(\"Jang \" +x)"
      ],
      "execution_count": 18,
      "outputs": [
        {
          "output_type": "stream",
          "name": "stdout",
          "text": [
            "Jang Wonyoung\n"
          ]
        }
      ]
    },
    {
      "cell_type": "markdown",
      "metadata": {
        "id": "WScJ0dxsRAM-"
      },
      "source": [
        "# Arithmetic Operators"
      ]
    },
    {
      "cell_type": "code",
      "metadata": {
        "colab": {
          "base_uri": "https://localhost:8080/"
        },
        "id": "JPL1hFSKRFos",
        "outputId": "7f5408dc-4a14-46d7-b16c-b815c242ea40"
      },
      "source": [
        "x=3\n",
        "y=8\n",
        "print(x+y)"
      ],
      "execution_count": 20,
      "outputs": [
        {
          "output_type": "stream",
          "name": "stdout",
          "text": [
            "11\n"
          ]
        }
      ]
    },
    {
      "cell_type": "code",
      "metadata": {
        "colab": {
          "base_uri": "https://localhost:8080/"
        },
        "id": "tmZligokRX9V",
        "outputId": "9a82db12-4033-4fe9-9160-7cfe818afbc8"
      },
      "source": [
        "x=2\n",
        "y=9\n",
        "z=8\n",
        "sum=(x+y+z)\n",
        "print(sum)"
      ],
      "execution_count": 21,
      "outputs": [
        {
          "output_type": "stream",
          "name": "stdout",
          "text": [
            "19\n"
          ]
        }
      ]
    },
    {
      "cell_type": "code",
      "metadata": {
        "colab": {
          "base_uri": "https://localhost:8080/"
        },
        "id": "gCkSDDhlRYAC",
        "outputId": "46382843-3e92-49c7-f133-7b55692aec1d"
      },
      "source": [
        "a,b,c=0,-1,6 #assignment operator\n",
        "c%=3\n",
        "print(c)"
      ],
      "execution_count": 24,
      "outputs": [
        {
          "output_type": "stream",
          "name": "stdout",
          "text": [
            "0\n"
          ]
        }
      ]
    },
    {
      "cell_type": "code",
      "metadata": {
        "colab": {
          "base_uri": "https://localhost:8080/"
        },
        "id": "yUPU8NtDSa7y",
        "outputId": "ffc9d73c-f335-4b4f-ffbd-4090976b703d"
      },
      "source": [
        "x==y #comparison operator"
      ],
      "execution_count": 25,
      "outputs": [
        {
          "output_type": "execute_result",
          "data": {
            "text/plain": [
              "False"
            ]
          },
          "metadata": {},
          "execution_count": 25
        }
      ]
    },
    {
      "cell_type": "code",
      "metadata": {
        "colab": {
          "base_uri": "https://localhost:8080/"
        },
        "id": "oI-_X_odSf7k",
        "outputId": "acaed2a5-f79d-4942-cbc3-e3764b47d300"
      },
      "source": [
        "x==y and x!=z #logical operator"
      ],
      "execution_count": 27,
      "outputs": [
        {
          "output_type": "execute_result",
          "data": {
            "text/plain": [
              "False"
            ]
          },
          "metadata": {},
          "execution_count": 27
        }
      ]
    },
    {
      "cell_type": "code",
      "metadata": {
        "colab": {
          "base_uri": "https://localhost:8080/"
        },
        "id": "wmTLWLrMS7C9",
        "outputId": "0c2c1836-f4fa-43b0-8367-da0788ff1a79"
      },
      "source": [
        "x,y,z=6,7,6 #identity operator\n",
        "x is z"
      ],
      "execution_count": 29,
      "outputs": [
        {
          "output_type": "execute_result",
          "data": {
            "text/plain": [
              "True"
            ]
          },
          "metadata": {},
          "execution_count": 29
        }
      ]
    }
  ]
}