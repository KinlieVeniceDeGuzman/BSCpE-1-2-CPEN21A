{
  "nbformat": 4,
  "nbformat_minor": 0,
  "metadata": {
    "colab": {
      "name": "Loop Statement.ipynb",
      "provenance": [],
      "authorship_tag": "ABX9TyO574kx2J78WCgjGe3G2ahK",
      "include_colab_link": true
    },
    "kernelspec": {
      "name": "python3",
      "display_name": "Python 3"
    },
    "language_info": {
      "name": "python"
    }
  },
  "cells": [
    {
      "cell_type": "markdown",
      "metadata": {
        "id": "view-in-github",
        "colab_type": "text"
      },
      "source": [
        "<a href=\"https://colab.research.google.com/github/itz-kin/BSCpE-1-2-CPEN21A/blob/main/Loop_Statement.ipynb\" target=\"_parent\"><img src=\"https://colab.research.google.com/assets/colab-badge.svg\" alt=\"Open In Colab\"/></a>"
      ]
    },
    {
      "cell_type": "markdown",
      "source": [
        "##For Loop"
      ],
      "metadata": {
        "id": "fkstaI_UKMns"
      }
    },
    {
      "cell_type": "code",
      "execution_count": 6,
      "metadata": {
        "colab": {
          "base_uri": "https://localhost:8080/"
        },
        "id": "zEnNsNFUJTa2",
        "outputId": "e2498f46-c8b5-470a-9839-3f6eeb3092fb"
      },
      "outputs": [
        {
          "output_type": "stream",
          "name": "stdout",
          "text": [
            "Sunday\n",
            "Monday\n",
            "Tuesday\n",
            "Wednesday\n",
            "Thursday\n",
            "Friday\n",
            "Saturday\n"
          ]
        }
      ],
      "source": [
        "week = [\"Sunday\",\"Monday\",\"Tuesday\",\"Wednesday\",\"Thursday\",\"Friday\",\"Saturday\"]\n",
        "for x in week:\n",
        "  print(x)"
      ]
    },
    {
      "cell_type": "markdown",
      "source": [
        "The break statement"
      ],
      "metadata": {
        "id": "EyQJzY21LNi3"
      }
    },
    {
      "cell_type": "code",
      "source": [
        "for x in week:\n",
        "  print(x)\n",
        "  if x==\"Thursday\":\n",
        "    break"
      ],
      "metadata": {
        "colab": {
          "base_uri": "https://localhost:8080/"
        },
        "id": "pQ1fBuJ1K3lT",
        "outputId": "1ba4cd1b-a4ae-40bb-d1ab-4aa54416b299"
      },
      "execution_count": 8,
      "outputs": [
        {
          "output_type": "stream",
          "name": "stdout",
          "text": [
            "Sunday\n",
            "Monday\n",
            "Tuesday\n",
            "Wednesday\n",
            "Thursday\n"
          ]
        }
      ]
    },
    {
      "cell_type": "code",
      "source": [
        "#The break statement\n",
        "for x in week:\n",
        "  if x==\"Thursday\":\n",
        "    break\n",
        "  print(x)"
      ],
      "metadata": {
        "colab": {
          "base_uri": "https://localhost:8080/"
        },
        "id": "Y57zcEpELt_0",
        "outputId": "42300a98-dcd0-4f71-a913-bfa542b98988"
      },
      "execution_count": 10,
      "outputs": [
        {
          "output_type": "stream",
          "name": "stdout",
          "text": [
            "Sunday\n",
            "Monday\n",
            "Tuesday\n",
            "Wednesday\n"
          ]
        }
      ]
    },
    {
      "cell_type": "markdown",
      "source": [
        "Looping through string"
      ],
      "metadata": {
        "id": "hNBxwzSYMP-J"
      }
    },
    {
      "cell_type": "code",
      "source": [
        "for x in \"Programming with Python\":\n",
        "  print(x)"
      ],
      "metadata": {
        "colab": {
          "base_uri": "https://localhost:8080/"
        },
        "id": "oPz5JbxsMHvG",
        "outputId": "d41c475d-23d4-4922-93e1-7693a1f171f6"
      },
      "execution_count": 12,
      "outputs": [
        {
          "output_type": "stream",
          "name": "stdout",
          "text": [
            "P\n",
            "r\n",
            "o\n",
            "g\n",
            "r\n",
            "a\n",
            "m\n",
            "m\n",
            "i\n",
            "n\n",
            "g\n",
            " \n",
            "w\n",
            "i\n",
            "t\n",
            "h\n",
            " \n",
            "P\n",
            "y\n",
            "t\n",
            "h\n",
            "o\n",
            "n\n"
          ]
        }
      ]
    },
    {
      "cell_type": "markdown",
      "source": [
        "The range() Function"
      ],
      "metadata": {
        "id": "FnBsAS8TMclY"
      }
    },
    {
      "cell_type": "code",
      "source": [
        "for x in range(10):\n",
        "  print(x)"
      ],
      "metadata": {
        "colab": {
          "base_uri": "https://localhost:8080/"
        },
        "id": "_IwESaMWMhar",
        "outputId": "f8d5aad9-b319-4bc9-b5e1-785f8b2dbeb7"
      },
      "execution_count": 64,
      "outputs": [
        {
          "output_type": "stream",
          "name": "stdout",
          "text": [
            "0\n",
            "1\n",
            "2\n",
            "3\n",
            "4\n",
            "5\n",
            "6\n",
            "7\n",
            "8\n",
            "9\n"
          ]
        }
      ]
    },
    {
      "cell_type": "markdown",
      "source": [
        "Nested Loops"
      ],
      "metadata": {
        "id": "8JmLa69mM_Ze"
      }
    },
    {
      "cell_type": "code",
      "source": [
        "adjective=[\"red\",\"big\",\"tasty\"]\n",
        "fruits=[\"apple\",\"banana\",\"cherry\"]\n",
        "\n",
        "for x in adjective:\n",
        "  for y in fruits:\n",
        "    print(x,y)"
      ],
      "metadata": {
        "colab": {
          "base_uri": "https://localhost:8080/"
        },
        "id": "FqXbKamVNB15",
        "outputId": "f62c76d3-d8d6-43e5-c794-c10988cdff0a"
      },
      "execution_count": 15,
      "outputs": [
        {
          "output_type": "stream",
          "name": "stdout",
          "text": [
            "red apple\n",
            "red banana\n",
            "red cherry\n",
            "big apple\n",
            "big banana\n",
            "big cherry\n",
            "tasty apple\n",
            "tasty banana\n",
            "tasty cherry\n"
          ]
        }
      ]
    },
    {
      "cell_type": "markdown",
      "source": [
        "While Loop"
      ],
      "metadata": {
        "id": "RHmHppw5OXku"
      }
    },
    {
      "cell_type": "markdown",
      "source": [
        "The break statement"
      ],
      "metadata": {
        "id": "hkrSkBPsPFEa"
      }
    },
    {
      "cell_type": "code",
      "source": [
        "i=10\n",
        "while i>6:\n",
        "  print(i)\n",
        "  i-=1 #Assignment operator for subtraction"
      ],
      "metadata": {
        "colab": {
          "base_uri": "https://localhost:8080/"
        },
        "id": "V5PhIY-_XKd5",
        "outputId": "7fa27043-a3ea-47a0-e4dd-05176a5cddcd"
      },
      "execution_count": 65,
      "outputs": [
        {
          "output_type": "stream",
          "name": "stdout",
          "text": [
            "10\n",
            "9\n",
            "8\n",
            "7\n"
          ]
        }
      ]
    },
    {
      "cell_type": "code",
      "source": [
        "i=10\n",
        "while i>6:\n",
        "  print(i)\n",
        "  if i==8:\n",
        "    break\n",
        "  i-=1"
      ],
      "metadata": {
        "colab": {
          "base_uri": "https://localhost:8080/"
        },
        "id": "t_5yaJwFPEiF",
        "outputId": "da3ad620-8794-49f2-8fd0-ba91ffd00bc9"
      },
      "execution_count": 66,
      "outputs": [
        {
          "output_type": "stream",
          "name": "stdout",
          "text": [
            "10\n",
            "9\n",
            "8\n"
          ]
        }
      ]
    },
    {
      "cell_type": "markdown",
      "source": [
        "The continue Statement"
      ],
      "metadata": {
        "id": "qOORlR_oQRuZ"
      }
    },
    {
      "cell_type": "code",
      "source": [
        "i=10\n",
        "while i>6:\n",
        "  i=i-1\n",
        "  if i==8:\n",
        "    continue\n",
        "  print(i)\n",
        "  i-=1"
      ],
      "metadata": {
        "colab": {
          "base_uri": "https://localhost:8080/"
        },
        "id": "E33GutomSNct",
        "outputId": "67423f97-b22d-4f59-e4a6-017a91007613"
      },
      "execution_count": 67,
      "outputs": [
        {
          "output_type": "stream",
          "name": "stdout",
          "text": [
            "9\n",
            "7\n"
          ]
        }
      ]
    },
    {
      "cell_type": "markdown",
      "source": [
        "The else statement"
      ],
      "metadata": {
        "id": "mnU8EIRrRPJE"
      }
    },
    {
      "cell_type": "code",
      "source": [
        "i=10\n",
        "while i>6:\n",
        "  i=i-1\n",
        "  print(i)\n",
        "else:\n",
        "  print(\"i is no longer greater than 6\")"
      ],
      "metadata": {
        "colab": {
          "base_uri": "https://localhost:8080/"
        },
        "id": "wKtR-_pzRY0r",
        "outputId": "888c523b-bf72-4d99-c151-7b38463c4d9a"
      },
      "execution_count": 41,
      "outputs": [
        {
          "output_type": "stream",
          "name": "stdout",
          "text": [
            "9\n",
            "8\n",
            "7\n",
            "6\n",
            "i is no longer greater than 6\n"
          ]
        }
      ]
    },
    {
      "cell_type": "markdown",
      "source": [
        "Let's try"
      ],
      "metadata": {
        "id": "XNIcbpxvR62x"
      }
    },
    {
      "cell_type": "markdown",
      "source": [
        "Application 1"
      ],
      "metadata": {
        "id": "6dx4qSNaTHh1"
      }
    },
    {
      "cell_type": "code",
      "source": [
        "value=[\"Value 0\",\"Value 1\",\"Value 2\",\"Value 3\",\"Vaue 4\",\"Value 5\",\"Value 6\",\"Value 7\",\"Value 8\",\"Value 9\",\"Value 10\"]\n",
        "for x in value:\n",
        "  print(x)"
      ],
      "metadata": {
        "colab": {
          "base_uri": "https://localhost:8080/"
        },
        "id": "QnLfUpZ2SyTh",
        "outputId": "4397bd47-44c4-48aa-8730-a3ec028aed5e"
      },
      "execution_count": 53,
      "outputs": [
        {
          "output_type": "stream",
          "name": "stdout",
          "text": [
            "Value 0\n",
            "Value 1\n",
            "Value 2\n",
            "Value 3\n",
            "Vaue 4\n",
            "Value 5\n",
            "Value 6\n",
            "Value 7\n",
            "Value 8\n",
            "Value 9\n",
            "Value 10\n"
          ]
        }
      ]
    },
    {
      "cell_type": "markdown",
      "source": [
        "Application 2"
      ],
      "metadata": {
        "id": "saE7IgYxTDXM"
      }
    },
    {
      "cell_type": "code",
      "source": [
        "i=20\n",
        "while i>4:\n",
        "  i=i-1\n",
        "  print(i)\n",
        "\n",
        "  \n",
        "else:\n",
        "  print(\"i is no longer greater than 3\") "
      ],
      "metadata": {
        "colab": {
          "base_uri": "https://localhost:8080/"
        },
        "id": "BMbdjIWvR8yE",
        "outputId": "dd8b33e6-bc5b-4863-fe87-42e3a9672194"
      },
      "execution_count": 72,
      "outputs": [
        {
          "output_type": "stream",
          "name": "stdout",
          "text": [
            "19\n",
            "18\n",
            "17\n",
            "16\n",
            "15\n",
            "14\n",
            "13\n",
            "12\n",
            "11\n",
            "10\n",
            "9\n",
            "8\n",
            "7\n",
            "6\n",
            "5\n",
            "4\n",
            "i is no longer greater than 3\n"
          ]
        }
      ]
    }
  ]
}