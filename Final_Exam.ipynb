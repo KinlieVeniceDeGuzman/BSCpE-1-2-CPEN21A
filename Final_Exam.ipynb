{
  "nbformat": 4,
  "nbformat_minor": 0,
  "metadata": {
    "colab": {
      "name": "Final Exam.ipynb",
      "provenance": [],
      "authorship_tag": "ABX9TyMwGR7VkuIPfVS+V5JmStSN",
      "include_colab_link": true
    },
    "kernelspec": {
      "name": "python3",
      "display_name": "Python 3"
    },
    "language_info": {
      "name": "python"
    }
  },
  "cells": [
    {
      "cell_type": "markdown",
      "metadata": {
        "id": "view-in-github",
        "colab_type": "text"
      },
      "source": [
        "<a href=\"https://colab.research.google.com/github/itz-kin/BSCpE-1-2-CPEN21A/blob/main/Final_Exam.ipynb\" target=\"_parent\"><img src=\"https://colab.research.google.com/assets/colab-badge.svg\" alt=\"Open In Colab\"/></a>"
      ]
    },
    {
      "cell_type": "markdown",
      "source": [
        "##Final Exam"
      ],
      "metadata": {
        "id": "kiFdrpftg_zk"
      }
    },
    {
      "cell_type": "markdown",
      "source": [
        "##PROBLEM STATEMENT 1"
      ],
      "metadata": {
        "id": "hXWFHIOWP072"
      }
    },
    {
      "cell_type": "code",
      "execution_count": 13,
      "metadata": {
        "colab": {
          "base_uri": "https://localhost:8080/"
        },
        "id": "usGZcWuCZ81s",
        "outputId": "e05c4248-2307-42cc-ff76-1a4c86d3a04b"
      },
      "outputs": [
        {
          "output_type": "stream",
          "name": "stdout",
          "text": [
            "Enter a number less than 5: 2\n",
            "Enter a number less than 5: 3\n",
            "Enter a number less than 5: -6\n",
            "Enter a number less than 5: 1\n",
            "Enter a number less than 5: 2\n",
            "Enter a number less than 5: -9\n",
            "Enter a number less than 5: 0\n",
            "Enter a number less than 5: -6\n",
            "Enter a number less than 5: 1\n",
            "Enter a number less than 5: 2\n",
            "The sum of all 10 numbers that are less than 5 is  -10\n"
          ]
        }
      ],
      "source": [
        "sum = 0\n",
        "for x in range(10):\n",
        "  x = int(input(\"Enter a number less than 5: \"))\n",
        "\n",
        "  if x >= 5:\n",
        "    print(\"Try again. Please only enter a number less than 5\")\n",
        "    break\n",
        "\n",
        "  sum = sum + x\n",
        "print(\"The sum of all 10 numbers that are less than 5 is \", +sum)\n"
      ]
    },
    {
      "cell_type": "markdown",
      "source": [
        "##PROBLEM STATEMENT 2"
      ],
      "metadata": {
        "id": "X8dbx_DTQFUg"
      }
    },
    {
      "cell_type": "code",
      "source": [
        "a = 0\n",
        "x = []\n",
        "\n",
        "while True:\n",
        "  if a == 5:\n",
        "    print(\"Sum of the 1st and 5th number is \", x[0] + x[4])\n",
        "    break\n",
        "\n",
        "  else:\n",
        "      g = int(input(\"Input a number: \"))\n",
        "      x.append(g)\n",
        "      a = a+1\n",
        "\n"
      ],
      "metadata": {
        "colab": {
          "base_uri": "https://localhost:8080/"
        },
        "id": "VS0nQfmiVy15",
        "outputId": "d08a2356-17bf-49a0-c812-2b7a09ba6055"
      },
      "execution_count": 14,
      "outputs": [
        {
          "output_type": "stream",
          "name": "stdout",
          "text": [
            "Input a number: 4\n",
            "Input a number: 7\n",
            "Input a number: 2\n",
            "Input a number: 9\n",
            "Input a number: 5\n",
            "Sum of the 1st and 5th number is  9\n"
          ]
        }
      ]
    },
    {
      "cell_type": "markdown",
      "source": [
        "##PROBLEM STATEMENT 3"
      ],
      "metadata": {
        "id": "vsYzBMeUV0rm"
      }
    },
    {
      "cell_type": "code",
      "source": [
        "Calculus = float(input(\"Input calculus grade here: \"))\n",
        "Programming = float(input(\"Input programming grade here: \"))\n",
        "Chemistry = float(input(\"Input chemistry grade here: \"))\n",
        "Mathematics = float(input(\"Input mathematics grade here: \"))\n",
        "\n",
        "x = [Calculus, Programming, Chemistry, Mathematics]\n",
        "Total = Calculus + Programming + Chemistry + Mathematics\n",
        "Average = Total/4\n",
        "print(\"Average grade: \", Average)\n",
        "\n",
        "if Average>=90:\n",
        "  print(\"Grade remark: A\")\n",
        "else:\n",
        "  if 89>=Average>=80:\n",
        "    print(\"Grade remark: B\")\n",
        "  else:\n",
        "    if 79>=Average>=70:\n",
        "      print(\"Grade remark: C\")\n",
        "    else:\n",
        "      if 69>=Average>=60:\n",
        "        print(\"Grade remark: D\")\n",
        "      else:\n",
        "        if Average<=60:\n",
        "          print(\"Grade remardk: F\")\n",
        "\n",
        "\n",
        "\n",
        "      \n"
      ],
      "metadata": {
        "colab": {
          "base_uri": "https://localhost:8080/"
        },
        "id": "GfGyk-T4n9rY",
        "outputId": "0ee0ab51-5c3d-43ab-a46f-cb9b03b69d6b"
      },
      "execution_count": 16,
      "outputs": [
        {
          "output_type": "stream",
          "name": "stdout",
          "text": [
            "Input calculus grade here: 98\n",
            "Input programming grade here: 99\n",
            "Input chemistry grade here: 94\n",
            "Input mathematics grade here: 95\n",
            "Average grade:  96.5\n",
            "Grade remark: A\n"
          ]
        }
      ]
    }
  ]
}