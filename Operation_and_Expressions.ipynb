{
  "nbformat": 4,
  "nbformat_minor": 0,
  "metadata": {
    "colab": {
      "name": "Operation_and_Expressions.ipynb",
      "provenance": [],
      "toc_visible": true,
      "authorship_tag": "ABX9TyP/zddgkw33Lqge7HmjYAbz",
      "include_colab_link": true
    },
    "kernelspec": {
      "name": "python3",
      "display_name": "Python 3"
    },
    "language_info": {
      "name": "python"
    }
  },
  "cells": [
    {
      "cell_type": "markdown",
      "metadata": {
        "id": "view-in-github",
        "colab_type": "text"
      },
      "source": [
        "<a href=\"https://colab.research.google.com/github/itz-kin/BSCpE-1-2-CPEN21A/blob/main/Operation_and_Expressions.ipynb\" target=\"_parent\"><img src=\"https://colab.research.google.com/assets/colab-badge.svg\" alt=\"Open In Colab\"/></a>"
      ]
    },
    {
      "cell_type": "markdown",
      "metadata": {
        "id": "laPIa44N_iDI"
      },
      "source": [
        "# Bollean Operators"
      ]
    },
    {
      "cell_type": "code",
      "metadata": {
        "colab": {
          "base_uri": "https://localhost:8080/"
        },
        "id": "6iGAoKRE_NJo",
        "outputId": "d368d813-25ee-4ae0-8b44-52e36e36657f"
      },
      "source": [
        "#Booleans represents one of the two values: True and False\n",
        "print(9>8)\n",
        "print(9==8)\n",
        "print(9>8)"
      ],
      "execution_count": null,
      "outputs": [
        {
          "output_type": "stream",
          "name": "stdout",
          "text": [
            "True\n",
            "False\n",
            "True\n"
          ]
        }
      ]
    },
    {
      "cell_type": "code",
      "metadata": {
        "colab": {
          "base_uri": "https://localhost:8080/"
        },
        "id": "DCQIFH83AQgC",
        "outputId": "79b2fec5-ff1e-42b9-e168-4fbed0f5d0e5"
      },
      "source": [
        "a=9\n",
        "b=8\n",
        "print(a>b)\n",
        "print(a==b)\n",
        "print(b>a)"
      ],
      "execution_count": null,
      "outputs": [
        {
          "output_type": "stream",
          "name": "stdout",
          "text": [
            "True\n",
            "False\n",
            "False\n"
          ]
        }
      ]
    },
    {
      "cell_type": "code",
      "metadata": {
        "colab": {
          "base_uri": "https://localhost:8080/"
        },
        "id": "2UNLbI1PAbkC",
        "outputId": "c07b229f-faa2-4dd7-cb9b-f5d3bdd43177"
      },
      "source": [
        "print(bool('Hello'))\n",
        "print(bool(15))"
      ],
      "execution_count": null,
      "outputs": [
        {
          "output_type": "stream",
          "name": "stdout",
          "text": [
            "True\n",
            "True\n"
          ]
        }
      ]
    },
    {
      "cell_type": "code",
      "metadata": {
        "colab": {
          "base_uri": "https://localhost:8080/"
        },
        "id": "Or5YfeZmAkJT",
        "outputId": "6c8d6bd5-72e9-4c94-b127-402f6aa7c833"
      },
      "source": [
        "print(bool(False))\n",
        "print(bool(None))\n",
        "print(bool({}))\n",
        "print(bool(0))\n",
        "print(bool([]))"
      ],
      "execution_count": null,
      "outputs": [
        {
          "output_type": "stream",
          "name": "stdout",
          "text": [
            "False\n",
            "False\n",
            "False\n",
            "False\n",
            "False\n"
          ]
        }
      ]
    },
    {
      "cell_type": "code",
      "metadata": {
        "colab": {
          "base_uri": "https://localhost:8080/"
        },
        "id": "VpwYIkg5A2zt",
        "outputId": "de4f2856-45d7-4236-8af1-1220c24ec585"
      },
      "source": [
        "def myFunction(): return True\n",
        "print(myFunction())"
      ],
      "execution_count": null,
      "outputs": [
        {
          "output_type": "stream",
          "name": "stdout",
          "text": [
            "True\n"
          ]
        }
      ]
    },
    {
      "cell_type": "code",
      "metadata": {
        "colab": {
          "base_uri": "https://localhost:8080/"
        },
        "id": "Heg8YHS7BHbu",
        "outputId": "9573310f-41db-4472-a14b-762fea076025"
      },
      "source": [
        "def myFunction(): return True\n",
        "print(myFunction())\n",
        "\n",
        "if (myFunction()):\n",
        "  print('Yes')\n",
        "else:\n",
        "    print('No')"
      ],
      "execution_count": null,
      "outputs": [
        {
          "output_type": "stream",
          "name": "stdout",
          "text": [
            "True\n",
            "Yes\n"
          ]
        }
      ]
    },
    {
      "cell_type": "markdown",
      "metadata": {
        "id": "jdDVpHroBbGG"
      },
      "source": [
        "# You Try!"
      ]
    },
    {
      "cell_type": "code",
      "metadata": {
        "colab": {
          "base_uri": "https://localhost:8080/"
        },
        "id": "BZ8ra7t-Bd8K",
        "outputId": "69d99ffa-bbc9-47f6-c9e9-97133542080c"
      },
      "source": [
        "A = 5\n",
        "B = 6\n",
        "print(A==B)\n",
        "print(A!=A)"
      ],
      "execution_count": null,
      "outputs": [
        {
          "output_type": "stream",
          "name": "stdout",
          "text": [
            "False\n",
            "False\n"
          ]
        }
      ]
    },
    {
      "cell_type": "code",
      "metadata": {
        "colab": {
          "base_uri": "https://localhost:8080/"
        },
        "id": "b8Nnak3IBkPQ",
        "outputId": "3efb6408-ee66-42f7-bf18-a617807d6775"
      },
      "source": [
        "print(10+2)\n",
        "print(10-2)\n",
        "print(10*2)\n",
        "print(10/2) #division - quotient\n",
        "print(10%2) #modulo - division\n",
        "print(10//2) #floor division\n",
        "print(10**2) #concatenation"
      ],
      "execution_count": null,
      "outputs": [
        {
          "output_type": "stream",
          "name": "stdout",
          "text": [
            "12\n",
            "8\n",
            "20\n",
            "5.0\n",
            "0\n",
            "5\n",
            "100\n"
          ]
        }
      ]
    },
    {
      "cell_type": "code",
      "metadata": {
        "id": "hq5n-4EpCGV7"
      },
      "source": [
        "a = 60 #0011 1100\n",
        "b = 13 #0000 1101\n",
        "\n",
        "print(a & b)\n",
        "print(a  )"
      ],
      "execution_count": null,
      "outputs": []
    },
    {
      "cell_type": "code",
      "metadata": {
        "colab": {
          "base_uri": "https://localhost:8080/"
        },
        "id": "j2U_gvfR5wIW",
        "outputId": "198c86fc-6e6e-42be-a7f6-c529233a4813"
      },
      "source": [
        "a = 60   #0011 1100\n",
        "b = 13   #0000 1101\n",
        "\n",
        "print(a & b)\n",
        "print(a | b)\n",
        "print(a ^ b)\n",
        "print(a<<2)\n",
        "print(a>>2)"
      ],
      "execution_count": null,
      "outputs": [
        {
          "output_type": "stream",
          "name": "stdout",
          "text": [
            "12\n",
            "61\n",
            "49\n",
            "240\n",
            "15\n"
          ]
        }
      ]
    },
    {
      "cell_type": "code",
      "metadata": {
        "colab": {
          "base_uri": "https://localhost:8080/"
        },
        "id": "Yvs9B97Z-w8w",
        "outputId": "3513de1c-a6e5-4344-ee91-c6cc5a61030c"
      },
      "source": [
        "x = 6\n",
        "x+=3         # x= x+3\n",
        "print(x)\n",
        "\n",
        "x%=3         #x= 6%3\n",
        "print(x)"
      ],
      "execution_count": null,
      "outputs": [
        {
          "output_type": "stream",
          "name": "stdout",
          "text": [
            "9\n",
            "0\n"
          ]
        }
      ]
    },
    {
      "cell_type": "code",
      "metadata": {
        "colab": {
          "base_uri": "https://localhost:8080/"
        },
        "id": "l_-kYLgyCfTL",
        "outputId": "12fe0b99-c826-4fcb-c26b-1e92f129c784"
      },
      "source": [
        "x=6\n",
        "x+=3 #x=x+3\n",
        "print(x)\n",
        "\n",
        "x%=3\n",
        "print(x) #x=6%3, remainder 0"
      ],
      "execution_count": null,
      "outputs": [
        {
          "output_type": "stream",
          "name": "stdout",
          "text": [
            "9\n",
            "0\n"
          ]
        }
      ]
    },
    {
      "cell_type": "code",
      "metadata": {
        "colab": {
          "base_uri": "https://localhost:8080/"
        },
        "id": "xznJIAUoC-9Y",
        "outputId": "c86ce282-d127-425f-f082-6a9a4e5cab6a"
      },
      "source": [
        "a=True\n",
        "b=False\n",
        "\n",
        "print(a and b)\n",
        "print(a or b)\n",
        "print(not(a and b))\n",
        "print(not(a or b)) #negation"
      ],
      "execution_count": null,
      "outputs": [
        {
          "output_type": "stream",
          "name": "stdout",
          "text": [
            "False\n",
            "True\n",
            "True\n",
            "False\n"
          ]
        }
      ]
    },
    {
      "cell_type": "code",
      "metadata": {
        "colab": {
          "base_uri": "https://localhost:8080/"
        },
        "id": "WA73xOYHDDPT",
        "outputId": "3a11b998-aafa-47a6-e333-0a390b087138"
      },
      "source": [
        "print(a is b)\n",
        "print(a is not b)"
      ],
      "execution_count": null,
      "outputs": [
        {
          "output_type": "stream",
          "name": "stdout",
          "text": [
            "False\n",
            "True\n"
          ]
        }
      ]
    }
  ]
}