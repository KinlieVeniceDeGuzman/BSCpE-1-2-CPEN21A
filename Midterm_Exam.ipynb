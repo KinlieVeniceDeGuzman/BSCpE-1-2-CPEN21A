{
  "nbformat": 4,
  "nbformat_minor": 0,
  "metadata": {
    "colab": {
      "name": "Midterm Exam.ipynb",
      "provenance": [],
      "authorship_tag": "ABX9TyOqck1S5ftf2RlIMoAgWRhZ",
      "include_colab_link": true
    },
    "kernelspec": {
      "name": "python3",
      "display_name": "Python 3"
    },
    "language_info": {
      "name": "python"
    }
  },
  "cells": [
    {
      "cell_type": "markdown",
      "metadata": {
        "id": "view-in-github",
        "colab_type": "text"
      },
      "source": [
        "<a href=\"https://colab.research.google.com/github/itz-kin/BSCpE-1-2-CPEN21A/blob/main/Midterm_Exam.ipynb\" target=\"_parent\"><img src=\"https://colab.research.google.com/assets/colab-badge.svg\" alt=\"Open In Colab\"/></a>"
      ]
    },
    {
      "cell_type": "markdown",
      "metadata": {
        "id": "0Ct_nprKBsra"
      },
      "source": [
        "##PROBLEM STATEMENT 1"
      ]
    },
    {
      "cell_type": "code",
      "metadata": {
        "colab": {
          "base_uri": "https://localhost:8080/"
        },
        "id": "Ze8SIkwcBxI9",
        "outputId": "dfe41f33-bc6f-4e2e-8743-97e75c5e70cf"
      },
      "source": [
        "name = \"Kinlie Venice L. de Guzman\"\n",
        "SN = \"202101551\"\n",
        "age = \"18 years old\"\n",
        "birthday = \"August 6, 2003\"\n",
        "address = \"171 Bucana Malaki, Naic, Cavite\"\n",
        "course = \"Bachelor of Science in Computer Engineering\"\n",
        "LastSemGWA = \"96\"\n",
        "\n",
        "print(\"My name is \" +name)\n",
        "print (\"My student number is \" +SN)\n",
        "print(\"I am \" +age)\n",
        "print(\"My birthday is on \" +birthday)\n",
        "print(\"I live in \"+address)\n",
        "print(\"My course is \" +course)\n",
        "print(\"My last sem GWA was \" +LastSemGWA)\n"
      ],
      "execution_count": 42,
      "outputs": [
        {
          "output_type": "stream",
          "name": "stdout",
          "text": [
            "My name is Kinlie Venice L. de Guzman\n",
            "My student number is 202101551\n",
            "I am 18 years old\n",
            "My birthday is on August 6, 2003\n",
            "I live in 171 Bucana Malaki, Naic, Cavite\n",
            "My course is Bachelor of Science in Computer Engineering\n",
            "My last sem GWA was 96\n"
          ]
        }
      ]
    },
    {
      "cell_type": "markdown",
      "metadata": {
        "id": "YiiM4dlAE5YA"
      },
      "source": [
        "##PROBLEM STATEMENT 2"
      ]
    },
    {
      "cell_type": "code",
      "metadata": {
        "colab": {
          "base_uri": "https://localhost:8080/"
        },
        "id": "BwjsY7KFDVd3",
        "outputId": "182dc0fb-51f2-47d2-a2d5-1a6835696857"
      },
      "source": [
        "n = 4\n",
        "answ = \"Y\"\n",
        "#Booleans represents one of the two values: True and False\n",
        "print(bool(2<n) and (n<6)) #condition a\n",
        "print(bool(2<n) or (n==6)) #condition b\n",
        "print(bool(not (2<n) or (n==6))) #condition c\n",
        "print(bool(not (n<6))) #condition d\n",
        "print(bool(answ==\"Y\") or (answ==\"y\")) #condition e\n",
        "print(bool(answ==\"Y\") and (answ==\"y\")) #condition f\n",
        "print(bool(not (answ==\"y\"))) #condition g\n",
        "print(bool((2<n) and (n==5+1)) or (answ==\"No\")) #condition h\n",
        "print(bool((n==2) and (n==7)) or (answ==\"Y\")) #condition i\n",
        "print(bool(n==2) and ((n==7) or (answ==\"Y\"))) #condition j"
      ],
      "execution_count": 36,
      "outputs": [
        {
          "output_type": "stream",
          "name": "stdout",
          "text": [
            "True\n",
            "True\n",
            "False\n",
            "False\n",
            "True\n",
            "False\n",
            "True\n",
            "False\n",
            "True\n",
            "False\n"
          ]
        }
      ]
    },
    {
      "cell_type": "markdown",
      "metadata": {
        "id": "yJSmCh9KF5Q7"
      },
      "source": [
        "##PROBLEM STATEMENT 3"
      ]
    },
    {
      "cell_type": "code",
      "metadata": {
        "colab": {
          "base_uri": "https://localhost:8080/"
        },
        "id": "Z4GlgmjAF7zI",
        "outputId": "1d8ebeba-d4b6-4ce9-ab69-abff8f52aa76"
      },
      "source": [
        "x = 2\n",
        "y = -3\n",
        "w = 7\n",
        "z = -10\n",
        "\n",
        "print(x/y) #a\n",
        "print(w/y/x) #b\n",
        "print(z/y%x) #c\n",
        "print(x%-y*w) #d\n",
        "print(x%y) #e\n",
        "print(z%w-y/x*5+5) #f\n",
        "print(9-x%(2+y)) #g\n",
        "print(z//w) #h\n",
        "print((2+y)**2) #i\n",
        "print(w/x*2) #j\n"
      ],
      "execution_count": 52,
      "outputs": [
        {
          "output_type": "stream",
          "name": "stdout",
          "text": [
            "-0.6666666666666666\n",
            "-1.1666666666666667\n",
            "1.3333333333333335\n",
            "14\n",
            "-1\n",
            "16.5\n",
            "9\n",
            "-2\n",
            "1\n",
            "7.0\n"
          ]
        }
      ]
    }
  ]
}